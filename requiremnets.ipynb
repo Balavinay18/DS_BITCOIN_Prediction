{
 "cells": [
  {
   "cell_type": "markdown",
   "metadata": {},
   "source": [
    "Packages to be install \n",
    "1. pip install yfinance\n",
    "2. pip install pandas\n",
    "3. pip install numpy\n",
    "4. pip install matplotlib\n",
    "5. pip install scikit-learn\n",
    "6. pip install keras\n",
    "7. pip install tensorflow\n"
   ]
  }
 ],
 "metadata": {
  "language_info": {
   "name": "python"
  }
 },
 "nbformat": 4,
 "nbformat_minor": 2
}
