{
 "cells": [
  {
   "cell_type": "markdown",
   "metadata": {},
   "source": [
    "Packages to be install \n",
    "1. pip install yfinance\n",
    "2. pip install pandas\n",
    "3. pip install numpy\n",
    "4. pip install matplotlib\n"
   ]
  }
 ],
 "metadata": {
  "language_info": {
   "name": "python"
  }
 },
 "nbformat": 4,
 "nbformat_minor": 2
}
